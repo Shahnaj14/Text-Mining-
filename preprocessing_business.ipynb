{
 "cells": [
  {
   "cell_type": "code",
   "execution_count": 5,
   "metadata": {
    "collapsed": false
   },
   "outputs": [
    {
     "name": "stdout",
     "output_type": "stream",
     "text": [
      "['sale', 'boost', 'time', 'warner', 'profit', 'quarterli', 'profit', 'media', 'giant', 'timewarn', 'jump', 'three', 'month', 'the', 'one', 'biggest', 'investor', 'benefit', 'sale', 'internet', 'connect', 'higher', 'advert', 'timewarn', 'said', 'fourth', 'quarter', 'sale', 'rose', 'it', 'profit', 'buoy', 'gain', 'offset', 'profit', 'dip', 'warner', 'less', 'user', 'time', 'warner', 'said', 'friday', 'own', 'but', 'internet', 'mix', 'lost', 'subscrib', 'fourth', 'quarter', 'profit', 'lower', 'preced', 'three', 'compani', 'said', 'underli', 'profit', 'except', 'item', 'rose', 'back', 'stronger', 'internet', 'advertis', 'hope', 'increas', 'subscrib', 'offer', 'onlin', 'servic', 'free', 'timewarn', 'internet', 'custom', 'tri', 'sign', 'exist', 'custom', 'timewarn', 'also', 'restat', 'result', 'follow', 'probe', 'secur', 'exchang', 'commiss', 'close', 'time', 'fourth', 'quarter', 'profit', 'slightli', 'better', 'but', 'film', 'divis', 'saw', 'profit', 'slump', 'help', 'flop', 'alexand', 'sharp', 'contrast', 'third', 'final', 'film', 'lord', 'ring', 'trilog', 'boost', 'for', 'timewarn', 'post', 'profit', 'revenu', 'grew', 'financi', 'perform', 'meet', 'exceed', 'object', 'greatli', 'enhanc', 'chairman', 'chief', 'execut', 'richard', 'parson', 'for', 'timewarn', 'project', 'oper', 'earn', 'growth', 'around', 'also', 'expect', 'higher', 'revenu', 'wider', 'profit', 'timewarn', 'restat', 'account', 'part', 'effort', 'resolv', 'inquiri', 'aol', 'market', 'alreadi', 'offer', 'pay', 'settl', 'deal', 'review', 'the', 'compani', 'said', 'unabl', 'estim', 'amount', 'need', 'set', 'asid', 'legal', 'previous', 'set', 'intend', 'adjust', 'way', 'account', 'deal', 'german', 'music', 'publish', 'purchas', 'stake', 'aol', 'report', 'advertis', 'book', 'sale', 'stake', 'aol', 'europ', 'loss', 'valu', 'dollar', 'gain', 'greenspan', 'speech', 'the', 'dollar', 'hit', 'highest', 'level', 'euro', 'almost', 'three', 'month', 'feder', 'reserv', 'head', 'said', 'trade', 'deficit', 'set', 'and', 'alan', 'greenspan', 'highlight', 'willing', 'curb', 'spend', 'rise', 'household', 'save', 'factor', 'may', 'help', 'reduc', 'late', 'trade', 'new', 'dollar', 'reach', 'market', 'concern', 'deficit', 'hit', 'greenback', 'recent', 'feder', 'reserv', 'chairman', 'speech', 'london', 'ahead', 'meet', 'financ', 'minist', 'sent', 'dollar', 'higher', 'earlier', 'tumbl', 'back', 'job', 'think', 'take', 'much', 'sanguin', 'view', 'current', 'account', 'deficit', 'taken', 'said', 'robert', 'head', 'currenc', 'strategi', 'bank', 'america', 'new', 'take', 'lay', 'set', 'condit', 'current', 'account', 'deficit', 'improv', 'year', 'worri', 'deficit', 'concern', 'china', 'currenc', 'remain', 'peg', 'dollar', 'sharp', 'fall', 'recent', 'month', 'therefor', 'made', 'chines', 'export', 'price', 'highli', 'but', 'call', 'shift', 'polici', 'fallen', 'deaf', 'despit', 'recent', 'comment', 'major', 'chines', 'newspap', 'loosen', 'the', 'meet', 'thought', 'unlik', 'produc', 'meaning', 'movement', 'chines', 'feder', 'decis', 'februari', 'boost', 'interest', 'rate', 'quarter', 'point', 'sixth', 'move', 'mani', 'month', 'open', 'differenti', 'european', 'the', 'could', 'enough', 'keep', 'asset', 'look', 'could', 'help', 'prop', 'the', 'recent', 'fall', 'partli', 'result', 'big', 'budget', 'well', 'yawn', 'current', 'account', 'need', 'fund', 'buy', 'bond', 'asset', 'foreign', 'firm', 'the', 'white', 'hous', 'announc', 'budget', 'mani', 'comment', 'believ', 'deficit', 'remain', 'close', 'half', 'trillion', 'yuko', 'unit', 'buyer', 'face', 'loan', 'claim', 'the', 'owner', 'embattl', 'russian', 'oil', 'giant', 'yuko', 'ask', 'buyer', 'former', 'product', 'unit', 'pay', 'back', 'rosneft', 'bought', 'yugansk', 'unit', 'sale', 'forc', 'russia', 'part', 'settl', 'tax', 'claim', 'owner', 'menatep', 'group', 'say', 'ask', 'rosneft', 'repay', 'loan', 'yugansk', 'secur', 'rosneft', 'alreadi', 'face', 'similar', 'repay', 'demand', 'foreign', 'legal', 'expert', 'said', 'purchas', 'yugansk', 'would', 'includ', 'pledg', 'asset', 'pay', 'real', 'money', 'creditor', 'avoid', 'seizur', 'yugansk', 'said', 'lawyer', 'jami', 'connect', 'menatep', 'manag', 'director', 'tim', 'osborn', 'told', 'reuter', 'news', 'fight', 'rule', 'law', 'exist', 'intern', 'arbitr', 'claus', 'rosneft', 'offici', 'unavail', 'but', 'compani', 'said', 'intend', 'take', 'action', 'menatep', 'recov', 'tax', 'claim', 'debt', 'owe', 'yuko', 'file', 'bankruptci', 'protect', 'court', 'attempt', 'prevent', 'forc', 'sale', 'main', 'product', 'the', 'sale', 'went', 'ahead', 'decemb', 'yugansk', 'sold', 'shell', 'compani', 'turn', 'bought', 'yuko', 'claim', 'downfal', 'punish', 'polit', 'ambit', 'founder', 'mikhail', 'khodorkovski', 'vow', 'sue', 'particip', 'high', 'fuel', 'price', 'hit', 'profit', 'british', 'airway', 'blame', 'high', 'fuel', 'price', 'drop', 'report', 'result', 'three', 'month', 'decemb', 'airlin', 'made', 'profit', 'compar', 'year', 'rod', 'chief', 'said', 'result', 'third', 'quarter', 'fuel', 'cost', 'rose', 'profit', 'still', 'better', 'market', 'expect', 'expect', 'rise', 'help', 'offset', 'increas', 'price', 'aviat', 'last', 'year', 'introduc', 'fuel', 'surcharg', 'increas', 'surcharg', 'rais', 'yet', 'aviat', 'analyst', 'mike', 'powel', 'dresdner', 'kleinwort', 'wasserstein', 'say', 'estim', 'annual', 'surcharg', 'revenu', 'still', 'way', 'short', 'addit', 'fuel', 'cost', 'predict', 'extra', 'turnov', 'quarter', 'benefit', 'rise', 'cargo', 'look', 'ahead', 'full', 'year', 'result', 'march', 'warn', 'yield', 'averag', 'revenu', 'per', 'passeng', 'expect', 'declin', 'continu', 'lower', 'price', 'face', 'competit', 'said', 'sale', 'would', 'better', 'previous', 'year', 'march', 'total', 'revenu', 'outlook', 'slightli', 'better', 'previou', 'guidanc', 'improv', 'chairman', 'martin', 'broughton', 'previous', 'forecast', 'rise', 'also', 'report', 'friday', 'passeng', 'number', 'rose', 'aviat', 'analyst', 'nick', 'van', 'den', 'brul', 'bnp', 'pariba', 'describ', 'latest', 'quarterli', 'result', 'quit', 'good', 'revenu', 'side', 'show', 'impact', 'fuel', 'surcharg', 'posit', 'cargo', 'oper', 'margin', 'cost', 'impact', 'fuel', 'sinc', 'septemb', 'attack', 'unit', 'cut', 'job', 'part', 'major', 'focu', 'remain', 'reduc', 'control', 'cost', 'debt', 'whilst', 'continu', 'invest', 'eddington', 'taken', 'deliveri', 'six', 'airbu', 'a321', 'aircraft', 'next', 'month', 'start', 'improv', 'club', 'world', 'flat', 'share', 'close', 'four', 'penc', 'pernod', 'takeov', 'talk', 'lift', 'domecq', 'share', 'drink', 'food', 'firm', 'alli', 'domecq', 'risen', 'specul', 'could', 'target', 'takeov', 'pernod', 'report', 'wall', 'street', 'journal', 'financi', 'time', 'suggest', 'french', 'spirit', 'firm', 'consid', 'yet', 'contact', 'alli', 'domecq', 'share', 'london', 'rose', 'pernod', 'share', 'pari', 'slip', 'pernod', 'said', 'seek', 'acquisit', 'refus', 'comment', 'last', 'major', 'purchas', 'third', 'giant', 'seagram', 'move', 'propel', 'global', 'top', 'three', 'drink', 'the', 'seagram', 'bought', 'market', 'leader', 'term', 'market', 'pernod', 'euro', 'smaller', 'alli', 'capitalis', 'last', 'year', 'pernod', 'tri', 'buy', 'one', 'premier', 'whiski', 'lost', 'luxuri', 'good', 'firm', 'pernod', 'home', 'brand', 'includ', 'chiva', 'regal', 'scotch', 'havana', 'club', 'rum', 'creek', 'alli', 'big', 'name', 'includ', 'malibu', 'courvoisi', 'stolichnaya', 'vodka', 'whiski', 'well', 'snack', 'food', 'chain', 'donut', 'ice', 'the', 'wsj', 'said', 'two', 'ripe', 'dealt', 'problemat', 'part', 'pernod', 'reduc', 'debt', 'took', 'fund', 'seagram', 'purchas', 'alli', 'improv', 'perform', 'china', 'keep', 'tight', 'rein', 'credit', 'effort', 'stop', 'economi', 'overh', 'clamp', 'credit', 'continu', 'state', 'media', 'the', 'curb', 'introduc', 'earlier', 'year', 'ward', 'risk', 'rapid', 'expans', 'might', 'lead', 'soar', 'there', 'also', 'fear', 'much', 'stress', 'might', 'place', 'fragil', 'bank', 'growth', 'china', 'remain', 'breakneck', 'corpor', 'invest', 'grow', 'the', 'breakneck', 'pace', 'econom', 'expans', 'kept', 'growth', 'rapid', 'manufactur', 'sector', 'mean', 'massiv', 'demand', 'energi', 'one', 'factor', 'kept', 'world', 'oil', 'price', 'govern', 'growth', 'continu', 'insist', 'overshoot', 'mean', 'shape', 'overbalanc', 'low', 'exchang', 'rate', 'yuan', 'peg', 'rate', 'seem', 'relentless', 'declin', 'mean', 'chines', 'export', 'cheap', 'world', 'china', 'thu', 'far', 'resist', 'intern', 'pressur', 'break', 'link', 'least', 'shift', 'level', 'credit', 'control', 'seem', 'take', 'industri', 'output', 'grew', 'year', 'inflat', 'slow', 'although', 'retail', 'sale', 'still', 'parmalat', 'boast', 'doubl', 'profit', 'italian', 'food', 'group', 'centr', 'one', 'pain', 'corpor', 'report', 'doubl', 'it', 'earn', 'fourth', 'quarter', '77m', 'euro', '38m', 'period', 'less', 'welcom', 'news', 'firm', 'fine', '11m', 'euro', 'violat', 'takeov', 'rule', 'five', 'year', 'the', 'firm', 'sought', 'bankruptci', 'protect', 'decemb', 'disclos', 'hole', 'debt', 'close', '12bn', 'fall', 'it', 'itali', 'continu', 'perform', 'bare', 'lost', 'revenu', 'sinc', 'scandal', 'but', 'crucial', 'factor', 'futur', 'legal', 'unwind', 'intens', 'complex', 'financi', 'turnaround', 'expert', 'enrico', 'su', 'morgan', 'former', 'return', '136m', 'euro', 'relat', 'bond', 'that', 'brought', 'number', 'bank', 'bondi', 'mass', 'legal', 'action', 'could', 'bring', 'much', '3bn', 'the', 'compani', 'also', 'su', 'former', 'auditor', 'financi', 'advisor', 'and', 'crimin', 'case', 'former', 'manag', 'proceed', 'rupe', 'hit', 'high', 'rupe', 'hit', 'high', 'standard', 'rais', 'foreign', 'currenc', 'the', 'rupe', 'climb', 'per', 'us', 'dollar', 'close', 'the', 'currenc', 'gain', 'almost', 'past', 'three', 'rate', 'lift', 'rate', 'one', 'notch', 'with', 'indian', 'asset', 'seen', 'less', 'cash', 'expect', 'flow', 'buoy', 'upgrad', 'posit', 'basic', 'peopl', 'use', 'excus', 'come', 'back', 'said', 'bhanu', 'strategist', 'move', 'india', 'first', 'two', 'three', 'week', 'januari', 'market', 'like', 'korea', 'thailand', 'upgrad', 'lead', 'foreign', 'currenc', 'rate', 'one', 'notch', 'invest', 'start', 'the', 'increas', 'put', 'level', 'egypt', 'one', 'level', 'india', 'widen', 'access', 'telecom', 'india', 'rais', 'limit', 'foreign', 'direct', 'invest', 'telecom', 'compani', 'commun', 'minist', 'dayanidhi', 'maran', 'said', 'need', 'fund', 'mobil', 'the', 'govern', 'hope', 'increas', 'number', 'mobil', 'user', 'million', 'million', 'need', 'least', 'invest', 'part', 'come', 'foreign', 'direct', 'said', 'the', 'decis', 'rais', 'limit', 'foreign', 'investor', 'face', 'consider', 'opposit', 'communist', 'give', 'crucial', 'support', 'coalit', 'head', 'prime', 'minist', 'manmohan', 'potenti', 'foreign', 'investor', 'howev', 'need', 'govern', 'approv', 'increas', 'stake', 'beyond', 'maran', 'key', 'chief', 'chief', 'technolog', 'offic', 'chief', 'financi', 'offic', 'held', 'analyst', 'investor', 'welcom', 'govern', 'posit', 'develop', 'carrier', 'invest', 'look', 'take', 'view', 'huge', 'growth', 'indian', 'telecom', 'said', 'princip', 'analyst', 'kobita', 'fdi', 'relax', 'coupl', 'rapid', 'local', 'market', 'growth', 'could', 'realli', 'ignit', 'interest', 'indian', 'telecommun', 'ad', 'ernst', 'sanjay', 'invest', 'bank', 'morgan', 'stanley', 'forecast', 'mobil', 'market', 'like', 'grow', 'year', 'the', 'indian', 'mobil', 'market', 'current', 'domin', 'four', 'bharti', 'televentur', 'alli', 'singapor', 'essar', 'link', 'hong', 'hutchison', 'sterl', 'group', 'tata', 'call', 'centr', 'user', 'custom', 'tri', 'get', 'call', 'centr', 'get', 'impati', 'quicker', 'hang', 'survey', 'onc', 'past', 'welcom', 'caller', 'averag', 'hang', 'second', 'listen', 'can', 'the', 'drop', 'patienc', 'come', 'number', 'call', 'call', 'centr', 'grow', 'rate', 'everi', 'get', 'use', 'idea', 'say', 'cara', 'diemont', 'firm', 'dimens', 'commiss', 'call', 'centr', 'also', 'saw', 'sharp', 'increas', 'custom', 'simpli', 'abandon', 'record', 'last', 'when', 'autom', 'phone', 'messag', 'system', 'taken', 'custom', 'pick', 'way', 'multipl', 'option', 'number', 'abandon', 'call', 'even', 'higher', 'sixth', 'caller', 'give', 'rather', 'one', 'possibl', 'reason', 'lack', 'diemont', 'fact', 'custom', 'call', 'use', 'mobil', 'the', 'surg', 'custom', 'tri', 'get', 'call', 'centr', 'also', 'reflect', 'grow', 'rang', 'call', 'centr', 'may', 'look', 'agent', 'may', 'also', 'respons', 'credit', 'insur', 'current', 'diemont', 'problem', 'occur', 'increas', 'respons', 'go', 'survey', 'dimens', 'data', 'call', 'averag', 'induct', 'time', 'call', 'centr', 'worker', 'fell', 'last', 'year', 'leav', 'equip', 'deal', 'diemont', 'good', 'bottom', 'line', 'poor', 'train', 'frustrat', 'call', 'centr', 'worker', 'call', 'centr', 'high', 'nearli', 'quarter', 'worker', 'throw', 'towel', 'everi', 'turn', 'forc', 'compani', 'pay', 'train', 'new', 'resolut', 'rate', 'number', 'call', 'queri', 'resolv', 'mutual', 'satisfact', 'run', 'when', 'queri', 'pass', 'second', 'third', 'person', 'specialist', 'manag', 'rate', 'rise', 'still', 'well', 'industri', 'target', 'resolut', 'suggest', 'reloc', 'call', 'centr', 'countri', 'like', 'india', 'south', 'africa', 'blame', 'diemont', 'there', 'big', 'differ', 'wait', 'time', 'call', 'call', 'centr', 'base', 'europ', 'north', 'america', 'develop', 'countri', 'around', 'make', 'call', 'centr', 'perform', 'anywher', 'good', 'manag', 'right', 'process', 'compani', 'decid', 'oper', 'driven', 'cost', 'onli', 'say', 'save', 'money', 'main', 'consider', 'close', 'domest', 'call', 'centr', 'half', 'argu', 'worker', 'countri', 'offer', 'better', 'skill', 'but', 'everybodi', 'believ', 'outsourc', 'offshor', 'nearli', 'firm', 'poll', 'survey', 'plan', 'offshor', 'call', 'they', 'give', 'three', 'key', 'reason', 'make', 'call', 'centr', 'oper', 'part', 'busi', 'worri', 'risk', 'go', 'fear', 'damag', 'brand', 'join', 'offshor', 'the', 'survey', 'conduct', 'sunov', 'behalf', 'dimens', 'base', 'questionnair', 'call', 'centr', 'countri', 'five', 'what', 'experi', 'call', 'are', 'happi', 'listen', 'vivaldi', 'want', 'immedi', 'and', 'work', 'call', 'train', 'prepar']\n"
     ]
    }
   ],
   "source": [
    "import re\n",
    "import nltk\n",
    "from nltk.tokenize import word_tokenize,sent_tokenize\n",
    "from nltk.corpus import stopwords\n",
    "from nltk.stem.lancaster import LancasterStemmer\n",
    "from nltk.stem import PorterStemmer\n",
    "from collections import Counter\n",
    "from collections import defaultdict\n",
    "import os\n",
    "import os.path\n",
    "\n",
    "st=PorterStemmer()\n",
    "path = 'C:\\\\Users\\\\ret\\\\business_1' \n",
    "files = os.listdir(path)\n",
    "os.chdir(path)\n",
    "files_txt = [i for i in files if i.endswith('.txt')]\n",
    "a=[]\n",
    "\n",
    "for x in range(0,len(files_txt)):\n",
    "        MyFile=open(files_txt[x],'r')\n",
    "        for y in MyFile.read().split():\n",
    "            a+=[y]\n",
    "\n",
    "read_data=filter(str.isalnum,a) \n",
    "stop_words=set(stopwords.words(\"english\"))\n",
    "#filtered_sentence=[]word_list\n",
    "filtered_sentence=[w for w in read_data if not w in stop_words]\n",
    "\n",
    "save_path = 'C:\\\\Users\\\\ret'\n",
    "name_of_file = 'business_corpus_1'\n",
    "completeName = os.path.join(save_path, name_of_file+\".txt\")         \n",
    "fh1 = open(completeName, \"w\")\n",
    "#fh1=open(\"file_corpus_sports.txt\",\"w\")\n",
    "#a=[]\n",
    "    \n",
    "filtered_sentence=[item.lower() for item in filtered_sentence]\n",
    "filtered_sentence=[x for x in filtered_sentence if not x.isdigit()]\n",
    "    \n",
    "    \n",
    "for words in filtered_sentence:\n",
    "    if ( len(words)==1 ) :\n",
    "        filtered_sentence.remove(words)\n",
    "for x in filtered_sentence:\n",
    "    if ( len(x)==2 ) :\n",
    "        filtered_sentence.remove(x)\n",
    "filtered_sentence=[st.stem(f) for f in filtered_sentence]       \n",
    "for w in  filtered_sentence:\n",
    "    fh1.write(w+' ')\n",
    "print((filtered_sentence) )   "
   ]
  },
  {
   "cell_type": "code",
   "execution_count": 6,
   "metadata": {
    "collapsed": false
   },
   "outputs": [
    {
     "name": "stdout",
     "output_type": "stream",
     "text": [
      "['rank', 'sell', 'film', 'leisur', 'group', 'rank', 'could', 'unveil', 'plan', 'demerg', 'film', 'servic', 'unit', 'sell', 'media', 'report', 'formerli', 'famou', 'carri', 'expos', 'announc', 'result', 'sunday', 'telegraph', 'advisor', 'goldman', 'sach', 'understood', 'valu', 'demerg', 'delux', 'film', 'unit', 'report', 'specul', 'possibl', 'mount', 'sinc', 'rank', 'announc', 'studi', 'possibl', 'demerg', 'sinc', 'mike', 'appoint', 'chief', 'execut', 'group', 'focus', 'fewer', 'busi', 'embark', 'major', 'programm', 'seen', 'dispos', 'number', 'includ', 'odeon', 'cinema', 'chain', 'pinewood', 'the', 'move', 'left', 'group', 'three', 'core', 'hard', 'rock', 'delux', 'provid', 'technic', 'servic', 'hollywood', 'rank', 'aim', 'concentr', 'bar', 'hotel', 'includ', 'extend', 'hard', 'rock', 'brand', 'casino', 'trial', 'also', 'own', 'delux', 'make', 'distribut', 'dvd', 'busi', 'seen', 'less', 'last', 'year', 'made', 'profit', 'turnov', 'expert', 'suggest', 'success', 'move', 'dvd', 'vh', 'video', 'could', 'make', 'attract', 'target', 'privat', 'equiti', 'spokesman', 'firm', 'refus', 'comment', 'said', 'result', 'demerg', 'studi', 'like', 'set', 'unveil', 'result', 'analyst', 'predict', 'firm', 'like', 'report', 'slight', 'drop', 'annual', 'profit', 'last', 'form', '1940', 'firm', 'lead', 'film', 'produc', 'cinema', 'owner', 'mani', 'diversifi', 'rang', 'leisur', 'activ', 'mainli', 'includ', 'roadsid', 'servic', 'area', 'holiday', 'own', 'grosvenor', 'mecca', 'bingo', 'chain', 'hard', 'rock', 'cafe', 'firm', 'face', 'venezuelan', 'land', 'row', 'venezuelan', 'author', 'said', 'seiz', 'land', 'own', 'british', 'compani', 'part', 'presid', 'agrarian', 'reform', 'offici', 'cojed', 'state', 'said', 'friday', 'farmland', 'own', 'subsidiari', 'vestey', 'group', 'would', 'taken', 'use', 'settl', 'poor', 'the', 'govern', 'crack', 'larg', 'rural', 'say', 'lie', 'the', 'vestey', 'group', 'said', 'inform', 'plan', 'the', 'whose', 'agroflora', 'subsidiari', 'oper', 'farm', 'insist', 'compli', 'fulli', 'venezuelan', 'prosecutor', 'south', 'countri', 'target', 'hato', 'beef', 'cattl', 'ranch', 'own', 'accord', 'plan', 'seiz', 'acr', 'acr', 'offici', 'claim', 'agroflora', 'possess', 'valid', 'document', 'prove', 'ownership', 'land', 'they', 'also', 'alleg', 'area', 'ranch', 'use', 'form', 'activ', 'legal', 'boundari', 'match', 'actual', 'boundari', 'state', 'prosecutor', 'alexi', 'ortiz', 'told', 'consequ', 'govern', 'taken', 'controversi', 'reform', 'pass', 'give', 'govern', 'right', 'take', 'control', 'privat', 'properti', 'declar', 'idl', 'ownership', 'cannot', 'trace', 'back', '19th', 'critic', 'say', 'power', 'presid', 'chavez', 'argu', 'need', 'help', 'poorest', 'citizen', 'develop', 'venezuelan', 'economi', 'trampl', 'privat', 'properti', 'the', 'vestey', 'group', 'said', 'own', 'land', 'sinc', 'would', 'fulli', 'but', 'spokesman', 'absolut', 'confid', 'submit', 'demonstr', 'legal', 'titl', 'the', 'compani', 'point', 'employ', 'provid', 'meat', 'sole', 'venezuelan', 'last', 'govern', 'said', 'identifi', 'idl', 'farm', 'yet', 'consid', 'statu', 'the', 'author', 'said', 'landown', 'whose', 'titl', 'order', 'whose', 'farm', 'product', 'under', 'presid', 'venezuelan', 'govern', 'steadili', 'expand', 'involv', 'recent', 'said', 'mine', 'contract', 'involv', 'foreign', 'firm', 'would', 'examin', 'ensur', 'provid', 'suffici', 'econom', 'benefit', 'give', 'foreign', 'firm', 'extra', 'time', 'foreign', 'firm', 'given', 'extra', 'year', 'meet', 'tough', 'new', 'corpor', 'govern', 'regul', 'impos', 'stock', 'market', 'the', 'secur', 'exchang', 'commiss', 'extend', 'deadlin', 'get', 'line', 'rule', 'juli', 'mani', 'foreign', 'firm', 'protest', 'sec', 'impos', 'unfair', 'the', 'new', 'rule', 'result', 'part', 'corpor', 'scandal', 'enron', 'section', 'sox', 'legisl', 'call', 'firm', 'certifi', 'financi', 'report', 'line', 'big', 'firm', 'alreadi', 'meet', 'smaller', 'one', 'firm', 'list', 'share', 'stock', 'market', 'origin', 'middl', 'over', 'past', 'deleg', 'european', 'busi', 'leader', 'head', 'washington', 'headquart', 'they', 'say', 'burden', 'expens', 'timescal', 'short', 'particularli', 'warn', 'compani', 'would', 'choos', 'let', 'list', 'drop', 'rather', 'get', 'line', 'section', 'the', 'latest', 'deleg', 'cbi', 'met', 'sec', 'offici', 'decis', 'relax', 'deadlin', 'think', 'signifi', 'chang', 'heart', 'cbi', 'sir', 'digbi', 'jone', 'told', 'today', 'listen', 'mani', 'oversea', 'remind', 'america', 'globalis', 'realli', 'make', 'rule', 'the', 'sec', 'said', 'taken', 'consider', 'fact', 'foreign', 'compani', 'alreadi', 'work', 'meet', 'oner', 'financi', 'report', 'rule', 'home', 'the', 'european', 'impos', 'new', 'intern', 'financi', 'report', 'standard', 'underestim', 'effort', 'extens', 'provid', 'addit', 'time', 'issuer', 'take', 'good', 'hard', 'look', 'intern', 'said', 'donald', 'chief', 'japanes', 'mogul', 'arrest', 'fraud', 'one', 'businessmen', 'arrest', 'thursday', 'charg', 'falsifi', 'sharehold', 'inform', 'sell', 'share', 'base', 'fals', 'yoshiaki', 'tsutsumi', 'rank', 'richest', 'man', 'ran', 'busi', 'span', 'construct', 'basebal', 'hi', 'latest', 'seri', 'arrest', 'top', 'execut', 'japan', 'busi', 'taken', 'away', 'van', 'outsid', 'one', 'princ', 'hotel', 'there', 'time', 'tsutsumi', 'seem', 'inherit', 'larg', 'properti', 'busi', 'father', 'becam', 'one', 'power', 'close', 'connect', 'mani', 'lead', 'use', 'wealth', 'influenc', 'bring', 'winter', 'olymp', 'game', 'nagano', 'but', 'last', 'forc', 'resign', 'post', 'held', 'busi', 'accus', 'falsifi', 'structur', 'seibu', 'one', 'under', 'japanes', 'stock', 'market', 'list', 'compani', 'own', 'largest', 'now', 'tsutsumi', 'face', 'crimin', 'charg', 'possibl', 'prison', 'sentenc', 'made', 'look', 'biggest', 'sharehold', 'own', 'less', 'seibu', 'railway', 'delist', 'stock', 'share', 'valu', 'plung', 'target', 'takeov', 'fall', 'grace', 'follow', 'arrest', 'sever', 'top', 'execut', 'japan', 'author', 'tri', 'curb', 'murki', 'busi', 'practic', 'widespread', 'japanes', 'hi', 'determin', 'stay', 'top', 'cost', 'may', 'root', 'the', 'illegitim', 'third', 'son', 'rich', 'made', 'money', 'buy', 'properti', 'japan', 'rebuilt', 'world', 'war', 'describ', 'demand', 'father', 'felt', 'enorm', 'pressur', 'dine', 'noth', 'tsutsumi', 'told', 'weekli', 'magazin', 'scold', 'pour', 'much', 'soy', 'sauc', 'told', 'fruit', 'let', 'use', 'silk', 'say', 'there', 'corpor', 'govern', 'issu', 'japanes', 'compani', 'last', 'twelv', 'manag', 'mitsubishi', 'motor', 'charg', 'cover', 'safeti', 'defect', 'vehicl', 'three', 'execut', 'troubl', 'ufj', 'bank', 'charg', 'conceal', 'extent', 'bad', 'deutsch', 'telekom', 'see', 'mobil', 'gain', 'german', 'telecom', 'firm', 'deutsch', 'telekom', 'saw', 'strong', 'fourth', 'quarter', 'profit', 'back', 'upbeat', 'mobil', 'earn', 'asset', 'net', 'profit', 'came', 'euro', 'dramat', 'chang', 'loss', '364m', 'euro', 'sale', 'rose', 'sale', 'stake', 'firm', 'includ', 'oao', 'mobil', 'telesystem', 'rais', 'thi', 'expect', 'help', 'bring', 'debt', 'year', 'debt', '11bn', 'euro', 'american', 'mobil', 'made', 'strong', 'contribut', 'semin', 'achiev', 'cut', 'debt', 'that', 'give', 'head', 'room', 'invest', 'growth', 'said', 'hann', 'telecom', 'analyst', 'dresdner', 'kleinwort', 'the', 'compani', 'also', 'said', 'would', 'resum', 'pay', 'two', 'year', 'focus', 'cut', 'umbro', 'profit', 'lift', 'euro', 'sportswear', 'firm', 'umbro', 'post', 'rise', 'annual', 'profit', 'sale', 'replica', 'england', 'footbal', 'kit', 'boost', 'euro', 'profit', 'recent', 'lost', 'sponsorship', 'deal', 'chelsea', 'said', 'thursday', 'sign', 'new', 'agreement', 'scottish', 'club', 'hope', 'sale', 'benefit', 'launch', 'new', 'england', 'replica', 'shirt', 'ahead', 'world', 'umbro', 'announc', 'sponsorship', 'agreement', 'gave', 'umbro', 'lucr', 'right', 'make', 'replica', 'would', 'end', 'five', 'year', 'earlier', 'the', 'receiv', 'payment', 'chelsea', 'said', 'number', 'addit', 'invest', 'opportun', 'result', 'chief', 'execut', 'peter', 'mcguigan', 'said', 'firm', 'plan', 'grow', 'sale', 'the', 'report', 'first', 'annual', 'result', 'sinc', 'list', 'london', 'stock', 'exchang', 'said', 'market', 'seen', 'sale', 'growth', 'last', 'said', 'launch', 'evolut', 'fashion', 'rang', 'boost', 'umbro', 'suppli', 'team', 'across', 'world', 'includ', 'nation', 'side', 'sweden', 'share', 'umbro', 'penc', 'morn', 'stormi', 'year', 'properti', 'insur', 'string', 'typhoon', 'earthquak', 'made', 'expens', 'year', 'record', 'properti', 'accord', 'swiss', 'the', 'second', 'biggest', 'insur', 'said', 'disast', 'around', 'globe', 'seen', 'properti', 'claim', 'reach', 'reinforc', 'trend', 'toward', 'higher', 'said', 'swiss', 'tightli', 'pack', 'popul', 'area', 'involv', 'natur', 'disast', 'partli', 'blame', 'rise', 'some', 'insur', 'claim', 'natur', 'rest', 'attribut', 'the', 'largest', 'claim', 'came', 'struck', 'four', 'suffer', 'highest', 'concentr', 'typhoon', 'decad', 'plu', 'major', 'europ', 'suffer', 'fewer', 'natur', 'peopl', 'kill', 'injur', 'march', 'terrorist', 'attack', 'train', 'station', 'the', 'damag', 'claim', 'eclips', 'previou', 'includ', 'septemb', 'attack', 'push', 'claim', 'swiss', 'said', 'regist', 'natur', 'disast', 'around', 'world', 'thousand', 'peopl', 'lost', 'live', 'catastroph', 'cost', 'global', 'economi', 'around', 'extend', 'indian', 'beer', 'ventur', 'the', 'biggest', 'scottish', 'newcastl', 'buy', 'unit', 'breweri', 'deal', 'worth', 'rupe', 'buy', 'equiti', 'stake', 'maker', 'kingfish', 'lager', 'make', 'public', 'offer', 'buy', 'anoth', 'similar', 'hold', 'control', 'vijay', 'chair', 'indian', 'the', 'deal', 'joint', 'ventur', 'said', 'toni', 'chief', 'it', 'top', 'brand', 'includ', 'newcastl', 'brown', 'john', 'strongbow', 'unit', 'agre', 'form', 'strateg', 'one', 'would', 'includ', 'joint', 'ventur', 'busi', 'invest', 'indian', 'the', 'joint', 'ventur', 'establish', 'may', 'parti', 'stake', 'ventur', 'millennium', 'millennium', 'alcobev', 'merg', 'expect', 'half', 'beer', 'popul', 'one', 'consum', 'billion', 'bottl', 'beer', 'everi', 'kingfish', 'market', 'share', 'addit', 'equiti', 'stake', 'invest', 'rupe', 'unit', 'redeem', 'prefer', 'budget', 'kingfish', 'buy', 'a320', 'aircraft', 'airbu', 'option', 'buy', 'aircraft', 'deal', 'worth', 'the', 'brainchild', 'expect', 'start', 'oper', 'end', 'the', 'new', 'airlin', 'would', 'break', 'even', 'first', 'year', 'mallya', 'christma', 'shopper', 'flock', 'till', 'shop', 'report', 'strong', 'sale', 'last', 'saturday', 'christma', 'claim', 'number', 'festiv', 'spokesman', 'trafford', 'centr', 'said', 'biggest', 'christma', 'sale', 'and', 'regent', 'street', 'associ', 'said', 'shop', 'central', 'london', 'also', 'expect', 'christma', 'that', 'pictur', 'come', 'despit', 'report', 'disappoint', 'festiv', 'sale', 'last', 'coupl', 'the', 'trafford', 'centr', 'spokeswoman', 'said', 'thousand', 'vehicl', 'arriv', 'centr', 'saturday', 'predict', 'next', 'week', 'continu', 'similar', 'stori', 'bluewat', 'spokesman', 'alan', 'jone', 'said', 'expect', 'shopper', 'visit', 'end', 'saturday', 'sale', 'far', 'time', 'last', 'realli', 'strong', 'peopl', 'shop', 'right', 'christma', 'period', 'expect', 'peopl', 'spend', 'excess', 'saturday', 'spokeswoman', 'shop', 'centr', 'cardiff', 'said', 'look', 'like', 'busiest', 'day', 'year', 'shopper', 'expect', 'visit', 'close', 'st', 'shop', 'centr', 'shopper', 'record', 'expect', 'pass', 'door', 'close', 'time', 'senior', 'busi', 'manag', 'jon', 'walton', 'phenomen', 'absolut', 'week', 'footfal', 'show', 'strong', 'growth', 'weekend', 'go', 'regent', 'street', 'associ', 'director', 'anni', 'walker', 'said', 'store', 'heav', 'today', 'lot', 'peopl', 'go', 'last', 'minut', 'shop', 'mani', 'peopl', 'finish', 'work', 'friday', 'she', 'said', 'report', 'slump', 'sale', 'relat', 'grow', 'popular', 'internet', 'think', 'lot', 'report', 'lower', 'sale', 'shop', 'gone', 'enorm', 'store', 'mysteri', 'surround', 'new', 'yuko', 'owner', 'the', 'fate', 'yuganskneftega', 'oil', 'firm', 'sold', 'buyer', 'sunday', 'subject', 'frantic', 'specul', 'baikal', 'financ', 'group', 'emerg', 'auction', 'agre', 'pay', 'roubl', 'newspap', 'claim', 'baikal', 'front', 'ga', 'monopoli', 'expect', 'the', 'sale', 'destroy', 'owner', 'said', 'founder', 'mikhail', 'sold', 'best', 'tradit', 'the', 'author', 'made', 'wonder', 'christma', 'present', 'effici', 'oil', 'compani', 'interfax', 'news', 'agenc', 'quot', 'khodorkovski', 'say', 'via', 'gazprom', 'expect', 'win', 'auction', 'thought', 'fail', 'get', 'financ', 'deal', 'court', 'injunct', 'bar', 'take', 'last', 'yuko', 'file', 'chapter', 'bankruptci', 'protect', 'attempt', 'hang', 'account', 'judg', 'ban', 'gazprom', 'take', 'part', 'auction', 'bar', 'intern', 'bank', 'provid', 'firm', 'screw', 'said', 'ronald', 'analyst', 'renaiss', 'capit', 'gazprom', 'sort', 'money', 'lie', 'gazprom', 'deni', 'behind', 'front', 'somebodi', 'necessarili', 'said', 'oleg', 'analyst', 'troika', 'dialog', 'know', 'compani', 'link', 'tri', 'find', 'far', 'paper', 'the', 'sale', 'howev', 'bought', 'time', 'gazprom', 'rais', 'money', 'need', 'analyst', 'one', 'scenario', 'baikal', 'pay', 'suppos', 'two', 'week', 'put', 'yuganskneftega', 'back', 'hand', 'bailiff', 'back', 'within', 'reach', 'yuko', 'plan', 'let', 'unit', 'without', 'fight', 'threaten', 'legal', 'action', 'yuko', 'main', 'also', 'threaten', 'legal', 'yuko', 'claim', 'punish', 'polit', 'ambit', 'mikhail', 'jail', 'face', 'separ', 'fraud', 'hit', 'tax', 'fine', 'mani', 'observ', 'say', 'break', 'firm', 'account', 'oil', 'output']\n"
     ]
    }
   ],
   "source": [
    "import re\n",
    "import nltk\n",
    "from nltk.tokenize import word_tokenize,sent_tokenize\n",
    "from nltk.corpus import stopwords\n",
    "from nltk.stem.lancaster import LancasterStemmer\n",
    "from nltk.stem import PorterStemmer\n",
    "from collections import Counter\n",
    "from collections import defaultdict\n",
    "import os\n",
    "import os.path\n",
    "\n",
    "st=PorterStemmer()\n",
    "path = 'C:\\\\Users\\\\ret\\\\business_2' \n",
    "files = os.listdir(path)\n",
    "os.chdir(path)\n",
    "files_txt = [i for i in files if i.endswith('.txt')]\n",
    "a=[]\n",
    "#print (len(files_txt))\n",
    "for x in range(0,len(files_txt)):\n",
    "        MyFile=open(files_txt[x],'r')\n",
    "        for y in MyFile.read().split():\n",
    "            a+=[y]\n",
    "        \n",
    "\n",
    "read_data=filter(str.isalnum,a) \n",
    "stop_words=set(stopwords.words(\"english\"))\n",
    "#filtered_sentence=[]word_list\n",
    "filtered_sentence=[w for w in read_data if not w in stop_words]\n",
    "\n",
    "save_path = 'C:\\\\Users\\\\ret'\n",
    "name_of_file = 'business_corpus_2'\n",
    "completeName = os.path.join(save_path, name_of_file+\".txt\")         \n",
    "fh1 = open(completeName, \"w\")\n",
    "#fh1=open(\"file_corpus_sports.txt\",\"w\")\n",
    "#a=[]\n",
    "    \n",
    "filtered_sentence=[item.lower() for item in filtered_sentence]\n",
    "filtered_sentence=[x for x in filtered_sentence if not x.isdigit()]\n",
    "    \n",
    "    \n",
    "for words in filtered_sentence:\n",
    "    if ( len(words)==1 ) :\n",
    "        filtered_sentence.remove(words)\n",
    "for x in filtered_sentence:\n",
    "    if ( len(x)==2 ) :\n",
    "        filtered_sentence.remove(x)\n",
    "        \n",
    "filtered_sentence=[st.stem(f) for f in filtered_sentence]       \n",
    "for w in  filtered_sentence:\n",
    "    fh1.write(w+' ')\n",
    "print((filtered_sentence) )   "
   ]
  },
  {
   "cell_type": "code",
   "execution_count": null,
   "metadata": {
    "collapsed": true
   },
   "outputs": [],
   "source": []
  }
 ],
 "metadata": {
  "celltoolbar": "Raw Cell Format",
  "kernelspec": {
   "display_name": "Python 3",
   "language": "python",
   "name": "python3"
  },
  "language_info": {
   "codemirror_mode": {
    "name": "ipython",
    "version": 3
   },
   "file_extension": ".py",
   "mimetype": "text/x-python",
   "name": "python",
   "nbconvert_exporter": "python",
   "pygments_lexer": "ipython3",
   "version": "3.5.1"
  }
 },
 "nbformat": 4,
 "nbformat_minor": 0
}
